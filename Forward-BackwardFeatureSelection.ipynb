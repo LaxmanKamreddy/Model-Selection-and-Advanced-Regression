{
 "cells": [
  {
   "cell_type": "markdown",
   "id": "fd9972bc",
   "metadata": {},
   "source": [
    "# Forward Selection:\n",
    "---"
   ]
  },
  {
   "cell_type": "code",
   "execution_count": 25,
   "id": "4c0125c6",
   "metadata": {},
   "outputs": [
    {
     "data": {
      "text/html": [
       "<div>\n",
       "<style scoped>\n",
       "    .dataframe tbody tr th:only-of-type {\n",
       "        vertical-align: middle;\n",
       "    }\n",
       "\n",
       "    .dataframe tbody tr th {\n",
       "        vertical-align: top;\n",
       "    }\n",
       "\n",
       "    .dataframe thead th {\n",
       "        text-align: right;\n",
       "    }\n",
       "</style>\n",
       "<table border=\"1\" class=\"dataframe\">\n",
       "  <thead>\n",
       "    <tr style=\"text-align: right;\">\n",
       "      <th></th>\n",
       "      <th>Type</th>\n",
       "      <th>LongestShell</th>\n",
       "      <th>Diameter</th>\n",
       "      <th>Height</th>\n",
       "      <th>WholeWeight</th>\n",
       "      <th>ShuckedWeight</th>\n",
       "      <th>VisceraWeight</th>\n",
       "      <th>ShellWeight</th>\n",
       "      <th>Rings</th>\n",
       "    </tr>\n",
       "  </thead>\n",
       "  <tbody>\n",
       "    <tr>\n",
       "      <th>0</th>\n",
       "      <td>M</td>\n",
       "      <td>0.455</td>\n",
       "      <td>0.365</td>\n",
       "      <td>0.095</td>\n",
       "      <td>0.5140</td>\n",
       "      <td>0.2245</td>\n",
       "      <td>0.1010</td>\n",
       "      <td>0.150</td>\n",
       "      <td>15</td>\n",
       "    </tr>\n",
       "    <tr>\n",
       "      <th>1</th>\n",
       "      <td>M</td>\n",
       "      <td>0.350</td>\n",
       "      <td>0.265</td>\n",
       "      <td>0.090</td>\n",
       "      <td>0.2255</td>\n",
       "      <td>0.0995</td>\n",
       "      <td>0.0485</td>\n",
       "      <td>0.070</td>\n",
       "      <td>7</td>\n",
       "    </tr>\n",
       "    <tr>\n",
       "      <th>2</th>\n",
       "      <td>F</td>\n",
       "      <td>0.530</td>\n",
       "      <td>0.420</td>\n",
       "      <td>0.135</td>\n",
       "      <td>0.6770</td>\n",
       "      <td>0.2565</td>\n",
       "      <td>0.1415</td>\n",
       "      <td>0.210</td>\n",
       "      <td>9</td>\n",
       "    </tr>\n",
       "    <tr>\n",
       "      <th>3</th>\n",
       "      <td>M</td>\n",
       "      <td>0.440</td>\n",
       "      <td>0.365</td>\n",
       "      <td>0.125</td>\n",
       "      <td>0.5160</td>\n",
       "      <td>0.2155</td>\n",
       "      <td>0.1140</td>\n",
       "      <td>0.155</td>\n",
       "      <td>10</td>\n",
       "    </tr>\n",
       "    <tr>\n",
       "      <th>4</th>\n",
       "      <td>I</td>\n",
       "      <td>0.330</td>\n",
       "      <td>0.255</td>\n",
       "      <td>0.080</td>\n",
       "      <td>0.2050</td>\n",
       "      <td>0.0895</td>\n",
       "      <td>0.0395</td>\n",
       "      <td>0.055</td>\n",
       "      <td>7</td>\n",
       "    </tr>\n",
       "  </tbody>\n",
       "</table>\n",
       "</div>"
      ],
      "text/plain": [
       "  Type  LongestShell  Diameter  Height  WholeWeight  ShuckedWeight  \\\n",
       "0    M         0.455     0.365   0.095       0.5140         0.2245   \n",
       "1    M         0.350     0.265   0.090       0.2255         0.0995   \n",
       "2    F         0.530     0.420   0.135       0.6770         0.2565   \n",
       "3    M         0.440     0.365   0.125       0.5160         0.2155   \n",
       "4    I         0.330     0.255   0.080       0.2050         0.0895   \n",
       "\n",
       "   VisceraWeight  ShellWeight  Rings  \n",
       "0         0.1010        0.150     15  \n",
       "1         0.0485        0.070      7  \n",
       "2         0.1415        0.210      9  \n",
       "3         0.1140        0.155     10  \n",
       "4         0.0395        0.055      7  "
      ]
     },
     "execution_count": 25,
     "metadata": {},
     "output_type": "execute_result"
    }
   ],
   "source": [
    "import pandas as pd\n",
    "data= pd.read_csv('./abalone.csv')\n",
    "data.head()"
   ]
  },
  {
   "cell_type": "code",
   "execution_count": 26,
   "id": "3de3319b",
   "metadata": {},
   "outputs": [
    {
     "data": {
      "text/plain": [
       "M    1528\n",
       "I    1342\n",
       "F    1307\n",
       "Name: Type, dtype: int64"
      ]
     },
     "execution_count": 26,
     "metadata": {},
     "output_type": "execute_result"
    }
   ],
   "source": [
    "data.Type.value_counts()"
   ]
  },
  {
   "cell_type": "code",
   "execution_count": 27,
   "id": "7e0edabd",
   "metadata": {},
   "outputs": [],
   "source": [
    "# split into dependent and independent Variables\n",
    "x= data.iloc[:, 1:]\n",
    "y= data.iloc[:,0]"
   ]
  },
  {
   "cell_type": "code",
   "execution_count": 52,
   "id": "90a2a0b2",
   "metadata": {},
   "outputs": [],
   "source": [
    "from sklearn.preprocessing import StandardScaler\n",
    "scale=StandardScaler()\n",
    "x_Scaled=scale.fit_transform(x)"
   ]
  },
  {
   "cell_type": "code",
   "execution_count": 53,
   "id": "cf917196",
   "metadata": {},
   "outputs": [],
   "source": [
    "# splitting into train and test\n",
    "\n",
    "from sklearn.model_selection import train_test_split\n",
    "x_train,x_test,y_train,y_test=train_test_split(x_Scaled,y,train_size=0.8, random_state=10)"
   ]
  },
  {
   "cell_type": "code",
   "execution_count": 54,
   "id": "b39e271f",
   "metadata": {},
   "outputs": [
    {
     "data": {
      "text/plain": [
       "RandomForestClassifier()"
      ]
     },
     "execution_count": 54,
     "metadata": {},
     "output_type": "execute_result"
    }
   ],
   "source": [
    "# Importing the model\n",
    "from sklearn.ensemble import RandomForestClassifier\n",
    "model= RandomForestClassifier()\n",
    "model.fit(x_train,y_train)"
   ]
  },
  {
   "cell_type": "code",
   "execution_count": 55,
   "id": "58091d16",
   "metadata": {},
   "outputs": [],
   "source": [
    "y_pred= model.predict(x_test)"
   ]
  },
  {
   "cell_type": "code",
   "execution_count": 56,
   "id": "0f93c39c",
   "metadata": {
    "scrolled": true
   },
   "outputs": [
    {
     "data": {
      "text/plain": [
       "array(['I', 'F', 'M', 'M', 'I', 'I', 'F', 'F', 'F', 'M', 'M', 'F', 'I',\n",
       "       'I', 'F', 'I', 'M', 'I', 'M', 'F', 'F', 'M', 'M', 'M', 'M', 'I',\n",
       "       'M', 'M', 'M', 'F', 'M', 'M', 'M', 'F', 'I', 'I', 'F', 'F', 'F',\n",
       "       'M', 'I', 'I', 'I', 'M', 'I', 'M', 'F', 'F', 'F', 'F', 'M', 'I',\n",
       "       'F', 'F', 'I', 'I', 'M', 'F', 'I', 'F', 'F', 'F', 'F', 'I', 'M',\n",
       "       'F', 'F', 'I', 'M', 'F', 'I', 'F', 'I', 'M', 'M', 'M', 'F', 'F',\n",
       "       'F', 'F', 'F', 'M', 'F', 'F', 'M', 'F', 'I', 'M', 'F', 'F', 'M',\n",
       "       'M', 'I', 'F', 'M', 'M', 'F', 'F', 'M', 'I', 'F', 'F', 'M', 'M',\n",
       "       'I', 'I', 'M', 'I', 'I', 'M', 'M', 'I', 'I', 'F', 'F', 'M', 'I',\n",
       "       'F', 'M', 'M', 'M', 'I', 'M', 'I', 'F', 'M', 'I', 'M', 'F', 'I',\n",
       "       'F', 'F', 'I', 'M', 'F', 'I', 'I', 'M', 'I', 'M', 'M', 'M', 'F',\n",
       "       'M', 'M', 'I', 'I', 'M', 'F', 'M', 'I', 'M', 'I', 'I', 'I', 'I',\n",
       "       'I', 'M', 'I', 'M', 'F', 'M', 'M', 'F', 'F', 'I', 'I', 'I', 'I',\n",
       "       'F', 'F', 'I', 'I', 'F', 'I', 'F', 'I', 'M', 'M', 'F', 'I', 'M',\n",
       "       'F', 'I', 'F', 'M', 'F', 'M', 'I', 'I', 'I', 'M', 'I', 'M', 'I',\n",
       "       'F', 'I', 'M', 'M', 'I', 'I', 'M', 'I', 'F', 'M', 'I', 'M', 'I',\n",
       "       'M', 'M', 'F', 'F', 'I', 'M', 'F', 'M', 'I', 'M', 'M', 'F', 'I',\n",
       "       'M', 'M', 'F', 'F', 'I', 'I', 'F', 'F', 'I', 'I', 'I', 'I', 'M',\n",
       "       'M', 'M', 'F', 'I', 'M', 'I', 'F', 'F', 'I', 'M', 'F', 'I', 'I',\n",
       "       'M', 'M', 'I', 'I', 'F', 'F', 'I', 'M', 'F', 'F', 'M', 'I', 'I',\n",
       "       'F', 'I', 'F', 'M', 'M', 'I', 'I', 'M', 'I', 'F', 'I', 'F', 'F',\n",
       "       'F', 'F', 'I', 'F', 'M', 'F', 'I', 'I', 'I', 'M', 'M', 'M', 'M',\n",
       "       'F', 'I', 'F', 'M', 'F', 'I', 'F', 'M', 'M', 'I', 'M', 'F', 'F',\n",
       "       'I', 'M', 'I', 'I', 'M', 'M', 'F', 'I', 'I', 'I', 'M', 'M', 'M',\n",
       "       'I', 'I', 'F', 'M', 'I', 'I', 'I', 'M', 'F', 'I', 'F', 'M', 'F',\n",
       "       'M', 'I', 'I', 'I', 'M', 'M', 'M', 'M', 'I', 'I', 'I', 'M', 'M',\n",
       "       'M', 'F', 'M', 'I', 'M', 'I', 'I', 'I', 'M', 'F', 'F', 'M', 'M',\n",
       "       'I', 'F', 'I', 'M', 'F', 'M', 'I', 'I', 'M', 'M', 'F', 'M', 'F',\n",
       "       'F', 'M', 'M', 'M', 'I', 'I', 'I', 'M', 'I', 'F', 'I', 'M', 'I',\n",
       "       'M', 'F', 'M', 'I', 'F', 'I', 'F', 'M', 'I', 'I', 'F', 'M', 'F',\n",
       "       'M', 'I', 'M', 'I', 'M', 'F', 'F', 'I', 'F', 'F', 'M', 'I', 'I',\n",
       "       'I', 'F', 'F', 'I', 'I', 'I', 'F', 'F', 'I', 'I', 'I', 'F', 'M',\n",
       "       'F', 'F', 'M', 'I', 'F', 'I', 'M', 'F', 'F', 'M', 'F', 'M', 'M',\n",
       "       'F', 'M', 'I', 'F', 'M', 'F', 'F', 'M', 'M', 'F', 'I', 'I', 'F',\n",
       "       'F', 'F', 'M', 'I', 'I', 'I', 'I', 'I', 'M', 'M', 'I', 'I', 'I',\n",
       "       'M', 'M', 'F', 'I', 'F', 'M', 'M', 'F', 'M', 'I', 'I', 'F', 'F',\n",
       "       'F', 'I', 'I', 'F', 'F', 'I', 'F', 'F', 'I', 'F', 'M', 'M', 'F',\n",
       "       'I', 'I', 'I', 'F', 'F', 'M', 'M', 'F', 'F', 'I', 'F', 'M', 'I',\n",
       "       'F', 'F', 'M', 'F', 'I', 'F', 'F', 'F', 'F', 'I', 'I', 'M', 'I',\n",
       "       'M', 'F', 'I', 'I', 'F', 'I', 'I', 'I', 'F', 'M', 'F', 'I', 'F',\n",
       "       'I', 'I', 'I', 'F', 'I', 'M', 'M', 'F', 'M', 'I', 'M', 'F', 'F',\n",
       "       'I', 'M', 'M', 'I', 'I', 'F', 'I', 'F', 'I', 'M', 'F', 'M', 'M',\n",
       "       'F', 'I', 'M', 'M', 'M', 'F', 'M', 'I', 'M', 'F', 'M', 'I', 'M',\n",
       "       'F', 'M', 'I', 'I', 'M', 'M', 'F', 'M', 'M', 'I', 'M', 'F', 'M',\n",
       "       'M', 'F', 'M', 'F', 'M', 'I', 'M', 'M', 'M', 'M', 'I', 'F', 'M',\n",
       "       'I', 'I', 'F', 'I', 'F', 'F', 'I', 'M', 'I', 'F', 'F', 'M', 'I',\n",
       "       'I', 'F', 'M', 'M', 'F', 'I', 'I', 'F', 'F', 'I', 'M', 'I', 'M',\n",
       "       'F', 'M', 'F', 'F', 'F', 'M', 'F', 'F', 'I', 'I', 'I', 'M', 'M',\n",
       "       'F', 'M', 'M', 'F', 'I', 'M', 'F', 'F', 'I', 'M', 'I', 'M', 'I',\n",
       "       'M', 'F', 'I', 'F', 'I', 'M', 'I', 'F', 'I', 'M', 'F', 'F', 'F',\n",
       "       'I', 'M', 'F', 'F', 'I', 'I', 'M', 'I', 'M', 'I', 'F', 'I', 'F',\n",
       "       'M', 'M', 'M', 'M', 'I', 'F', 'F', 'M', 'I', 'I', 'F', 'I', 'M',\n",
       "       'F', 'I', 'M', 'M', 'M', 'M', 'F', 'I', 'M', 'M', 'F', 'F', 'F',\n",
       "       'M', 'M', 'I', 'F', 'I', 'M', 'I', 'M', 'M', 'I', 'F', 'I', 'I',\n",
       "       'I', 'I', 'I', 'M', 'M', 'I', 'M', 'M', 'M', 'M', 'I', 'M', 'I',\n",
       "       'I', 'I', 'M', 'I', 'M', 'F', 'M', 'M', 'M', 'M', 'M', 'M', 'I',\n",
       "       'F', 'I', 'F', 'F', 'M', 'M', 'I', 'F', 'F', 'I', 'I', 'M', 'I',\n",
       "       'M', 'F', 'I', 'F', 'M', 'I', 'M', 'F', 'M', 'F', 'I', 'I', 'M',\n",
       "       'I', 'M', 'M', 'F', 'F', 'M', 'I', 'M', 'M', 'F', 'M', 'F', 'F',\n",
       "       'I', 'M', 'M', 'F', 'F', 'M', 'I', 'F', 'M', 'F', 'M', 'I', 'M',\n",
       "       'M', 'M', 'M', 'F', 'I', 'F', 'I', 'I', 'I', 'I', 'I', 'I', 'F',\n",
       "       'M', 'I', 'I', 'I', 'M', 'M', 'I', 'M', 'I', 'I', 'F', 'F', 'M',\n",
       "       'M', 'I', 'I', 'I', 'M', 'I', 'F', 'I', 'M', 'I', 'I', 'I', 'M',\n",
       "       'M', 'I', 'F', 'I', 'I', 'F', 'M', 'I', 'M', 'I', 'I', 'F', 'I',\n",
       "       'M', 'I', 'M', 'F'], dtype=object)"
      ]
     },
     "execution_count": 56,
     "metadata": {},
     "output_type": "execute_result"
    }
   ],
   "source": [
    "y_pred"
   ]
  },
  {
   "cell_type": "code",
   "execution_count": 57,
   "id": "df050295",
   "metadata": {},
   "outputs": [
    {
     "name": "stdout",
     "output_type": "stream",
     "text": [
      "0.5478468899521531\n"
     ]
    },
    {
     "data": {
      "text/html": [
       "<div>\n",
       "<style scoped>\n",
       "    .dataframe tbody tr th:only-of-type {\n",
       "        vertical-align: middle;\n",
       "    }\n",
       "\n",
       "    .dataframe tbody tr th {\n",
       "        vertical-align: top;\n",
       "    }\n",
       "\n",
       "    .dataframe thead th {\n",
       "        text-align: right;\n",
       "    }\n",
       "</style>\n",
       "<table border=\"1\" class=\"dataframe\">\n",
       "  <thead>\n",
       "    <tr style=\"text-align: right;\">\n",
       "      <th>col_0</th>\n",
       "      <th>F</th>\n",
       "      <th>I</th>\n",
       "      <th>M</th>\n",
       "    </tr>\n",
       "    <tr>\n",
       "      <th>Type</th>\n",
       "      <th></th>\n",
       "      <th></th>\n",
       "      <th></th>\n",
       "    </tr>\n",
       "  </thead>\n",
       "  <tbody>\n",
       "    <tr>\n",
       "      <th>F</th>\n",
       "      <td>114</td>\n",
       "      <td>30</td>\n",
       "      <td>121</td>\n",
       "    </tr>\n",
       "    <tr>\n",
       "      <th>I</th>\n",
       "      <td>20</td>\n",
       "      <td>213</td>\n",
       "      <td>37</td>\n",
       "    </tr>\n",
       "    <tr>\n",
       "      <th>M</th>\n",
       "      <td>118</td>\n",
       "      <td>52</td>\n",
       "      <td>131</td>\n",
       "    </tr>\n",
       "  </tbody>\n",
       "</table>\n",
       "</div>"
      ],
      "text/plain": [
       "col_0    F    I    M\n",
       "Type                \n",
       "F      114   30  121\n",
       "I       20  213   37\n",
       "M      118   52  131"
      ]
     },
     "execution_count": 57,
     "metadata": {},
     "output_type": "execute_result"
    }
   ],
   "source": [
    "from sklearn.metrics import accuracy_score\n",
    "print(accuracy_score(y_test, y_pred))\n",
    "pd.crosstab(y_test, y_pred)"
   ]
  },
  {
   "cell_type": "code",
   "execution_count": null,
   "id": "bc14fb09",
   "metadata": {},
   "outputs": [],
   "source": [
    "#!pip install mlxtend"
   ]
  },
  {
   "cell_type": "code",
   "execution_count": 41,
   "id": "92b06ded",
   "metadata": {},
   "outputs": [],
   "source": [
    "from mlxtend.feature_selection import SequentialFeatureSelector"
   ]
  },
  {
   "cell_type": "code",
   "execution_count": 42,
   "id": "ec771a91",
   "metadata": {},
   "outputs": [
    {
     "name": "stderr",
     "output_type": "stream",
     "text": [
      "[Parallel(n_jobs=1)]: Using backend SequentialBackend with 1 concurrent workers.\n",
      "[Parallel(n_jobs=1)]: Done   1 out of   1 | elapsed:   10.8s remaining:    0.0s\n",
      "[Parallel(n_jobs=1)]: Done   8 out of   8 | elapsed:   22.9s finished\n",
      "\n",
      "[2022-05-24 20:40:56] Features: 1/8 -- score: 0.514822373190838[Parallel(n_jobs=1)]: Using backend SequentialBackend with 1 concurrent workers.\n",
      "[Parallel(n_jobs=1)]: Done   1 out of   1 | elapsed:    1.8s remaining:    0.0s\n",
      "[Parallel(n_jobs=1)]: Done   7 out of   7 | elapsed:   12.7s finished\n",
      "\n",
      "[2022-05-24 20:41:09] Features: 2/8 -- score: 0.5043410935975582[Parallel(n_jobs=1)]: Using backend SequentialBackend with 1 concurrent workers.\n",
      "[Parallel(n_jobs=1)]: Done   1 out of   1 | elapsed:    1.7s remaining:    0.0s\n",
      "[Parallel(n_jobs=1)]: Done   6 out of   6 | elapsed:   11.4s finished\n",
      "\n",
      "[2022-05-24 20:41:20] Features: 3/8 -- score: 0.5157192341773851[Parallel(n_jobs=1)]: Using backend SequentialBackend with 1 concurrent workers.\n",
      "[Parallel(n_jobs=1)]: Done   1 out of   1 | elapsed:    1.8s remaining:    0.0s\n",
      "[Parallel(n_jobs=1)]: Done   5 out of   5 | elapsed:    9.3s finished\n",
      "\n",
      "[2022-05-24 20:41:29] Features: 4/8 -- score: 0.5291837848965745[Parallel(n_jobs=1)]: Using backend SequentialBackend with 1 concurrent workers.\n",
      "[Parallel(n_jobs=1)]: Done   1 out of   1 | elapsed:    1.8s remaining:    0.0s\n",
      "[Parallel(n_jobs=1)]: Done   4 out of   4 | elapsed:    7.8s finished\n",
      "\n",
      "[2022-05-24 20:41:37] Features: 5/8 -- score: 0.5432511658297754[Parallel(n_jobs=1)]: Using backend SequentialBackend with 1 concurrent workers.\n",
      "[Parallel(n_jobs=1)]: Done   1 out of   1 | elapsed:    2.0s remaining:    0.0s\n",
      "[Parallel(n_jobs=1)]: Done   3 out of   3 | elapsed:    6.3s finished\n",
      "\n",
      "[2022-05-24 20:41:44] Features: 6/8 -- score: 0.5441511595642795[Parallel(n_jobs=1)]: Using backend SequentialBackend with 1 concurrent workers.\n",
      "[Parallel(n_jobs=1)]: Done   1 out of   1 | elapsed:    1.9s remaining:    0.0s\n",
      "[Parallel(n_jobs=1)]: Done   2 out of   2 | elapsed:    4.0s finished\n",
      "\n",
      "[2022-05-24 20:41:48] Features: 7/8 -- score: 0.5519324579540471[Parallel(n_jobs=1)]: Using backend SequentialBackend with 1 concurrent workers.\n",
      "[Parallel(n_jobs=1)]: Done   1 out of   1 | elapsed:    2.2s remaining:    0.0s\n",
      "[Parallel(n_jobs=1)]: Done   1 out of   1 | elapsed:    2.2s finished\n",
      "\n",
      "[2022-05-24 20:41:50] Features: 8/8 -- score: 0.5498424675313051"
     ]
    }
   ],
   "source": [
    "forwardSelector= SequentialFeatureSelector(RandomForestClassifier(n_jobs=-1),\n",
    "                                                               k_features=(1,8),\n",
    "                                                               forward=True,\n",
    "                                                               verbose=2,\n",
    "                                                               scoring=\"accuracy\",\n",
    "                                                               cv=5).fit(x_train,y_train)"
   ]
  },
  {
   "cell_type": "code",
   "execution_count": 43,
   "id": "7066d628",
   "metadata": {},
   "outputs": [
    {
     "data": {
      "text/plain": [
       "(1, 2, 3, 4, 5, 6, 7)"
      ]
     },
     "execution_count": 43,
     "metadata": {},
     "output_type": "execute_result"
    }
   ],
   "source": [
    "forwardSelector.k_feature_idx_"
   ]
  },
  {
   "cell_type": "code",
   "execution_count": 44,
   "id": "a4dcc0e6",
   "metadata": {},
   "outputs": [
    {
     "data": {
      "text/plain": [
       "('Diameter',\n",
       " 'Height',\n",
       " 'WholeWeight',\n",
       " 'ShuckedWeight',\n",
       " 'VisceraWeight',\n",
       " 'ShellWeight',\n",
       " 'Rings')"
      ]
     },
     "execution_count": 44,
     "metadata": {},
     "output_type": "execute_result"
    }
   ],
   "source": [
    "forwardSelector.k_feature_names_"
   ]
  },
  {
   "cell_type": "code",
   "execution_count": 45,
   "id": "79ecfadc",
   "metadata": {},
   "outputs": [
    {
     "data": {
      "text/plain": [
       "0.5519324579540471"
      ]
     },
     "execution_count": 45,
     "metadata": {},
     "output_type": "execute_result"
    }
   ],
   "source": [
    "forwardSelector.k_score_"
   ]
  },
  {
   "cell_type": "code",
   "execution_count": 46,
   "id": "c144e994",
   "metadata": {},
   "outputs": [
    {
     "data": {
      "text/html": [
       "<div>\n",
       "<style scoped>\n",
       "    .dataframe tbody tr th:only-of-type {\n",
       "        vertical-align: middle;\n",
       "    }\n",
       "\n",
       "    .dataframe tbody tr th {\n",
       "        vertical-align: top;\n",
       "    }\n",
       "\n",
       "    .dataframe thead th {\n",
       "        text-align: right;\n",
       "    }\n",
       "</style>\n",
       "<table border=\"1\" class=\"dataframe\">\n",
       "  <thead>\n",
       "    <tr style=\"text-align: right;\">\n",
       "      <th></th>\n",
       "      <th>feature_idx</th>\n",
       "      <th>cv_scores</th>\n",
       "      <th>avg_score</th>\n",
       "      <th>feature_names</th>\n",
       "      <th>ci_bound</th>\n",
       "      <th>std_dev</th>\n",
       "      <th>std_err</th>\n",
       "    </tr>\n",
       "  </thead>\n",
       "  <tbody>\n",
       "    <tr>\n",
       "      <th>1</th>\n",
       "      <td>(2,)</td>\n",
       "      <td>[0.49327354260089684, 0.5209580838323353, 0.52...</td>\n",
       "      <td>0.514822</td>\n",
       "      <td>(Height,)</td>\n",
       "      <td>0.014347</td>\n",
       "      <td>0.011163</td>\n",
       "      <td>0.005581</td>\n",
       "    </tr>\n",
       "    <tr>\n",
       "      <th>2</th>\n",
       "      <td>(2, 7)</td>\n",
       "      <td>[0.5007473841554559, 0.5089820359281437, 0.505...</td>\n",
       "      <td>0.504341</td>\n",
       "      <td>(Height, Rings)</td>\n",
       "      <td>0.007106</td>\n",
       "      <td>0.005529</td>\n",
       "      <td>0.002764</td>\n",
       "    </tr>\n",
       "    <tr>\n",
       "      <th>3</th>\n",
       "      <td>(2, 3, 7)</td>\n",
       "      <td>[0.4977578475336323, 0.5374251497005988, 0.523...</td>\n",
       "      <td>0.515719</td>\n",
       "      <td>(Height, WholeWeight, Rings)</td>\n",
       "      <td>0.01757</td>\n",
       "      <td>0.01367</td>\n",
       "      <td>0.006835</td>\n",
       "    </tr>\n",
       "    <tr>\n",
       "      <th>4</th>\n",
       "      <td>(1, 2, 3, 7)</td>\n",
       "      <td>[0.5261584454409567, 0.5449101796407185, 0.529...</td>\n",
       "      <td>0.529184</td>\n",
       "      <td>(Diameter, Height, WholeWeight, Rings)</td>\n",
       "      <td>0.010785</td>\n",
       "      <td>0.008391</td>\n",
       "      <td>0.004196</td>\n",
       "    </tr>\n",
       "    <tr>\n",
       "      <th>5</th>\n",
       "      <td>(1, 2, 3, 6, 7)</td>\n",
       "      <td>[0.5411061285500748, 0.5359281437125748, 0.544...</td>\n",
       "      <td>0.543251</td>\n",
       "      <td>(Diameter, Height, WholeWeight, ShellWeight, R...</td>\n",
       "      <td>0.005793</td>\n",
       "      <td>0.004507</td>\n",
       "      <td>0.002253</td>\n",
       "    </tr>\n",
       "    <tr>\n",
       "      <th>6</th>\n",
       "      <td>(1, 2, 3, 5, 6, 7)</td>\n",
       "      <td>[0.5351270553064275, 0.5494011976047904, 0.543...</td>\n",
       "      <td>0.544151</td>\n",
       "      <td>(Diameter, Height, WholeWeight, VisceraWeight,...</td>\n",
       "      <td>0.008751</td>\n",
       "      <td>0.006808</td>\n",
       "      <td>0.003404</td>\n",
       "    </tr>\n",
       "    <tr>\n",
       "      <th>7</th>\n",
       "      <td>(1, 2, 3, 4, 5, 6, 7)</td>\n",
       "      <td>[0.5455904334828101, 0.5793413173652695, 0.546...</td>\n",
       "      <td>0.551932</td>\n",
       "      <td>(Diameter, Height, WholeWeight, ShuckedWeight,...</td>\n",
       "      <td>0.017659</td>\n",
       "      <td>0.01374</td>\n",
       "      <td>0.00687</td>\n",
       "    </tr>\n",
       "    <tr>\n",
       "      <th>8</th>\n",
       "      <td>(0, 1, 2, 3, 4, 5, 6, 7)</td>\n",
       "      <td>[0.5261584454409567, 0.5793413173652695, 0.562...</td>\n",
       "      <td>0.549842</td>\n",
       "      <td>(LongestShell, Diameter, Height, WholeWeight, ...</td>\n",
       "      <td>0.024271</td>\n",
       "      <td>0.018884</td>\n",
       "      <td>0.009442</td>\n",
       "    </tr>\n",
       "  </tbody>\n",
       "</table>\n",
       "</div>"
      ],
      "text/plain": [
       "                feature_idx  \\\n",
       "1                      (2,)   \n",
       "2                    (2, 7)   \n",
       "3                 (2, 3, 7)   \n",
       "4              (1, 2, 3, 7)   \n",
       "5           (1, 2, 3, 6, 7)   \n",
       "6        (1, 2, 3, 5, 6, 7)   \n",
       "7     (1, 2, 3, 4, 5, 6, 7)   \n",
       "8  (0, 1, 2, 3, 4, 5, 6, 7)   \n",
       "\n",
       "                                           cv_scores avg_score  \\\n",
       "1  [0.49327354260089684, 0.5209580838323353, 0.52...  0.514822   \n",
       "2  [0.5007473841554559, 0.5089820359281437, 0.505...  0.504341   \n",
       "3  [0.4977578475336323, 0.5374251497005988, 0.523...  0.515719   \n",
       "4  [0.5261584454409567, 0.5449101796407185, 0.529...  0.529184   \n",
       "5  [0.5411061285500748, 0.5359281437125748, 0.544...  0.543251   \n",
       "6  [0.5351270553064275, 0.5494011976047904, 0.543...  0.544151   \n",
       "7  [0.5455904334828101, 0.5793413173652695, 0.546...  0.551932   \n",
       "8  [0.5261584454409567, 0.5793413173652695, 0.562...  0.549842   \n",
       "\n",
       "                                       feature_names  ci_bound   std_dev  \\\n",
       "1                                          (Height,)  0.014347  0.011163   \n",
       "2                                    (Height, Rings)  0.007106  0.005529   \n",
       "3                       (Height, WholeWeight, Rings)   0.01757   0.01367   \n",
       "4             (Diameter, Height, WholeWeight, Rings)  0.010785  0.008391   \n",
       "5  (Diameter, Height, WholeWeight, ShellWeight, R...  0.005793  0.004507   \n",
       "6  (Diameter, Height, WholeWeight, VisceraWeight,...  0.008751  0.006808   \n",
       "7  (Diameter, Height, WholeWeight, ShuckedWeight,...  0.017659   0.01374   \n",
       "8  (LongestShell, Diameter, Height, WholeWeight, ...  0.024271  0.018884   \n",
       "\n",
       "    std_err  \n",
       "1  0.005581  \n",
       "2  0.002764  \n",
       "3  0.006835  \n",
       "4  0.004196  \n",
       "5  0.002253  \n",
       "6  0.003404  \n",
       "7   0.00687  \n",
       "8  0.009442  "
      ]
     },
     "execution_count": 46,
     "metadata": {},
     "output_type": "execute_result"
    }
   ],
   "source": [
    "pd.DataFrame.from_dict(forwardSelector.get_metric_dict()).T"
   ]
  },
  {
   "cell_type": "markdown",
   "id": "c53628db",
   "metadata": {},
   "source": [
    "# Backward Selection\n",
    "---"
   ]
  },
  {
   "cell_type": "code",
   "execution_count": 47,
   "id": "ab1a99b9",
   "metadata": {},
   "outputs": [
    {
     "name": "stderr",
     "output_type": "stream",
     "text": [
      "[Parallel(n_jobs=1)]: Using backend SequentialBackend with 1 concurrent workers.\n",
      "[Parallel(n_jobs=1)]: Done   1 out of   1 | elapsed:    2.8s remaining:    0.0s\n",
      "[Parallel(n_jobs=1)]: Done   8 out of   8 | elapsed:   17.4s finished\n",
      "\n",
      "[2022-05-24 20:44:35] Features: 7/1 -- score: 0.5564239234535414[Parallel(n_jobs=1)]: Using backend SequentialBackend with 1 concurrent workers.\n",
      "[Parallel(n_jobs=1)]: Done   1 out of   1 | elapsed:    2.0s remaining:    0.0s\n",
      "[Parallel(n_jobs=1)]: Done   7 out of   7 | elapsed:   15.2s finished\n",
      "\n",
      "[2022-05-24 20:44:51] Features: 6/1 -- score: 0.5543276675348853[Parallel(n_jobs=1)]: Using backend SequentialBackend with 1 concurrent workers.\n",
      "[Parallel(n_jobs=1)]: Done   1 out of   1 | elapsed:    2.0s remaining:    0.0s\n",
      "[Parallel(n_jobs=1)]: Done   6 out of   6 | elapsed:   13.0s finished\n",
      "\n",
      "[2022-05-24 20:45:04] Features: 5/1 -- score: 0.5483369583702549[Parallel(n_jobs=1)]: Using backend SequentialBackend with 1 concurrent workers.\n",
      "[Parallel(n_jobs=1)]: Done   1 out of   1 | elapsed:    2.2s remaining:    0.0s\n",
      "[Parallel(n_jobs=1)]: Done   5 out of   5 | elapsed:   10.9s finished\n",
      "\n",
      "[2022-05-24 20:45:15] Features: 4/1 -- score: 0.5399595427978124[Parallel(n_jobs=1)]: Using backend SequentialBackend with 1 concurrent workers.\n",
      "[Parallel(n_jobs=1)]: Done   1 out of   1 | elapsed:    1.7s remaining:    0.0s\n",
      "[Parallel(n_jobs=1)]: Done   4 out of   4 | elapsed:    7.8s finished\n",
      "\n",
      "[2022-05-24 20:45:23] Features: 3/1 -- score: 0.5321737690538206[Parallel(n_jobs=1)]: Using backend SequentialBackend with 1 concurrent workers.\n",
      "[Parallel(n_jobs=1)]: Done   1 out of   1 | elapsed:    1.7s remaining:    0.0s\n",
      "[Parallel(n_jobs=1)]: Done   3 out of   3 | elapsed:    5.0s finished\n",
      "\n",
      "[2022-05-24 20:45:28] Features: 2/1 -- score: 0.48997117871879564[Parallel(n_jobs=1)]: Using backend SequentialBackend with 1 concurrent workers.\n",
      "[Parallel(n_jobs=1)]: Done   1 out of   1 | elapsed:    1.4s remaining:    0.0s\n",
      "[Parallel(n_jobs=1)]: Done   2 out of   2 | elapsed:    3.0s finished\n",
      "\n",
      "[2022-05-24 20:45:31] Features: 1/1 -- score: 0.4968524833740591"
     ]
    }
   ],
   "source": [
    "backwardSelector= SequentialFeatureSelector(RandomForestClassifier(n_jobs=-1),\n",
    "                                                               k_features=(1,8),\n",
    "                                                               forward=False,\n",
    "                                                               verbose=2,\n",
    "                                                               scoring=\"accuracy\",\n",
    "                                                               cv=5).fit(x_train,y_train)"
   ]
  },
  {
   "cell_type": "code",
   "execution_count": 48,
   "id": "f7c21bb4",
   "metadata": {},
   "outputs": [
    {
     "data": {
      "text/html": [
       "<div>\n",
       "<style scoped>\n",
       "    .dataframe tbody tr th:only-of-type {\n",
       "        vertical-align: middle;\n",
       "    }\n",
       "\n",
       "    .dataframe tbody tr th {\n",
       "        vertical-align: top;\n",
       "    }\n",
       "\n",
       "    .dataframe thead th {\n",
       "        text-align: right;\n",
       "    }\n",
       "</style>\n",
       "<table border=\"1\" class=\"dataframe\">\n",
       "  <thead>\n",
       "    <tr style=\"text-align: right;\">\n",
       "      <th></th>\n",
       "      <th>feature_idx</th>\n",
       "      <th>cv_scores</th>\n",
       "      <th>avg_score</th>\n",
       "      <th>feature_names</th>\n",
       "      <th>ci_bound</th>\n",
       "      <th>std_dev</th>\n",
       "      <th>std_err</th>\n",
       "    </tr>\n",
       "  </thead>\n",
       "  <tbody>\n",
       "    <tr>\n",
       "      <th>8</th>\n",
       "      <td>(0, 1, 2, 3, 4, 5, 6, 7)</td>\n",
       "      <td>[0.5426008968609866, 0.562874251497006, 0.5538...</td>\n",
       "      <td>0.545047</td>\n",
       "      <td>(LongestShell, Diameter, Height, WholeWeight, ...</td>\n",
       "      <td>0.015592</td>\n",
       "      <td>0.012131</td>\n",
       "      <td>0.006066</td>\n",
       "    </tr>\n",
       "    <tr>\n",
       "      <th>7</th>\n",
       "      <td>(0, 1, 2, 3, 5, 6, 7)</td>\n",
       "      <td>[0.5440956651718983, 0.5763473053892215, 0.552...</td>\n",
       "      <td>0.556424</td>\n",
       "      <td>(LongestShell, Diameter, Height, WholeWeight, ...</td>\n",
       "      <td>0.014386</td>\n",
       "      <td>0.011193</td>\n",
       "      <td>0.005597</td>\n",
       "    </tr>\n",
       "    <tr>\n",
       "      <th>6</th>\n",
       "      <td>(0, 1, 3, 5, 6, 7)</td>\n",
       "      <td>[0.5455904334828101, 0.5658682634730539, 0.546...</td>\n",
       "      <td>0.554328</td>\n",
       "      <td>(LongestShell, Diameter, WholeWeight, VisceraW...</td>\n",
       "      <td>0.010373</td>\n",
       "      <td>0.008071</td>\n",
       "      <td>0.004035</td>\n",
       "    </tr>\n",
       "    <tr>\n",
       "      <th>5</th>\n",
       "      <td>(0, 3, 5, 6, 7)</td>\n",
       "      <td>[0.554559043348281, 0.5583832335329342, 0.5494...</td>\n",
       "      <td>0.548337</td>\n",
       "      <td>(LongestShell, WholeWeight, VisceraWeight, She...</td>\n",
       "      <td>0.016106</td>\n",
       "      <td>0.012531</td>\n",
       "      <td>0.006266</td>\n",
       "    </tr>\n",
       "    <tr>\n",
       "      <th>4</th>\n",
       "      <td>(0, 3, 5, 6)</td>\n",
       "      <td>[0.5351270553064275, 0.5494011976047904, 0.568...</td>\n",
       "      <td>0.53996</td>\n",
       "      <td>(LongestShell, WholeWeight, VisceraWeight, She...</td>\n",
       "      <td>0.023691</td>\n",
       "      <td>0.018432</td>\n",
       "      <td>0.009216</td>\n",
       "    </tr>\n",
       "    <tr>\n",
       "      <th>3</th>\n",
       "      <td>(0, 5, 6)</td>\n",
       "      <td>[0.5396113602391629, 0.5344311377245509, 0.538...</td>\n",
       "      <td>0.532174</td>\n",
       "      <td>(LongestShell, VisceraWeight, ShellWeight)</td>\n",
       "      <td>0.011532</td>\n",
       "      <td>0.008972</td>\n",
       "      <td>0.004486</td>\n",
       "    </tr>\n",
       "    <tr>\n",
       "      <th>2</th>\n",
       "      <td>(0, 5)</td>\n",
       "      <td>[0.4962630792227205, 0.5134730538922155, 0.494...</td>\n",
       "      <td>0.489971</td>\n",
       "      <td>(LongestShell, VisceraWeight)</td>\n",
       "      <td>0.021509</td>\n",
       "      <td>0.016735</td>\n",
       "      <td>0.008367</td>\n",
       "    </tr>\n",
       "    <tr>\n",
       "      <th>1</th>\n",
       "      <td>(0,)</td>\n",
       "      <td>[0.5127055306427504, 0.47904191616766467, 0.48...</td>\n",
       "      <td>0.496852</td>\n",
       "      <td>(LongestShell,)</td>\n",
       "      <td>0.015606</td>\n",
       "      <td>0.012142</td>\n",
       "      <td>0.006071</td>\n",
       "    </tr>\n",
       "  </tbody>\n",
       "</table>\n",
       "</div>"
      ],
      "text/plain": [
       "                feature_idx  \\\n",
       "8  (0, 1, 2, 3, 4, 5, 6, 7)   \n",
       "7     (0, 1, 2, 3, 5, 6, 7)   \n",
       "6        (0, 1, 3, 5, 6, 7)   \n",
       "5           (0, 3, 5, 6, 7)   \n",
       "4              (0, 3, 5, 6)   \n",
       "3                 (0, 5, 6)   \n",
       "2                    (0, 5)   \n",
       "1                      (0,)   \n",
       "\n",
       "                                           cv_scores avg_score  \\\n",
       "8  [0.5426008968609866, 0.562874251497006, 0.5538...  0.545047   \n",
       "7  [0.5440956651718983, 0.5763473053892215, 0.552...  0.556424   \n",
       "6  [0.5455904334828101, 0.5658682634730539, 0.546...  0.554328   \n",
       "5  [0.554559043348281, 0.5583832335329342, 0.5494...  0.548337   \n",
       "4  [0.5351270553064275, 0.5494011976047904, 0.568...   0.53996   \n",
       "3  [0.5396113602391629, 0.5344311377245509, 0.538...  0.532174   \n",
       "2  [0.4962630792227205, 0.5134730538922155, 0.494...  0.489971   \n",
       "1  [0.5127055306427504, 0.47904191616766467, 0.48...  0.496852   \n",
       "\n",
       "                                       feature_names  ci_bound   std_dev  \\\n",
       "8  (LongestShell, Diameter, Height, WholeWeight, ...  0.015592  0.012131   \n",
       "7  (LongestShell, Diameter, Height, WholeWeight, ...  0.014386  0.011193   \n",
       "6  (LongestShell, Diameter, WholeWeight, VisceraW...  0.010373  0.008071   \n",
       "5  (LongestShell, WholeWeight, VisceraWeight, She...  0.016106  0.012531   \n",
       "4  (LongestShell, WholeWeight, VisceraWeight, She...  0.023691  0.018432   \n",
       "3         (LongestShell, VisceraWeight, ShellWeight)  0.011532  0.008972   \n",
       "2                      (LongestShell, VisceraWeight)  0.021509  0.016735   \n",
       "1                                    (LongestShell,)  0.015606  0.012142   \n",
       "\n",
       "    std_err  \n",
       "8  0.006066  \n",
       "7  0.005597  \n",
       "6  0.004035  \n",
       "5  0.006266  \n",
       "4  0.009216  \n",
       "3  0.004486  \n",
       "2  0.008367  \n",
       "1  0.006071  "
      ]
     },
     "execution_count": 48,
     "metadata": {},
     "output_type": "execute_result"
    }
   ],
   "source": [
    "pd.DataFrame.from_dict(backwardSelector.get_metric_dict()).T"
   ]
  },
  {
   "cell_type": "code",
   "execution_count": 49,
   "id": "1a1d906e",
   "metadata": {},
   "outputs": [
    {
     "data": {
      "text/plain": [
       "(0, 1, 2, 3, 5, 6, 7)"
      ]
     },
     "execution_count": 49,
     "metadata": {},
     "output_type": "execute_result"
    }
   ],
   "source": [
    "backwardSelector.k_feature_idx_"
   ]
  },
  {
   "cell_type": "code",
   "execution_count": 50,
   "id": "6396dd6e",
   "metadata": {},
   "outputs": [
    {
     "data": {
      "text/plain": [
       "('LongestShell',\n",
       " 'Diameter',\n",
       " 'Height',\n",
       " 'WholeWeight',\n",
       " 'VisceraWeight',\n",
       " 'ShellWeight',\n",
       " 'Rings')"
      ]
     },
     "execution_count": 50,
     "metadata": {},
     "output_type": "execute_result"
    }
   ],
   "source": [
    "backwardSelector.k_feature_names_"
   ]
  },
  {
   "cell_type": "code",
   "execution_count": 51,
   "id": "4ab193b4",
   "metadata": {},
   "outputs": [
    {
     "data": {
      "text/plain": [
       "0.5564239234535414"
      ]
     },
     "execution_count": 51,
     "metadata": {},
     "output_type": "execute_result"
    }
   ],
   "source": [
    "backwardSelector.k_score_"
   ]
  },
  {
   "cell_type": "code",
   "execution_count": null,
   "id": "75fcee21",
   "metadata": {},
   "outputs": [],
   "source": []
  },
  {
   "cell_type": "code",
   "execution_count": null,
   "id": "229ff174",
   "metadata": {},
   "outputs": [],
   "source": []
  }
 ],
 "metadata": {
  "kernelspec": {
   "display_name": "Python 3 (ipykernel)",
   "language": "python",
   "name": "python3"
  },
  "language_info": {
   "codemirror_mode": {
    "name": "ipython",
    "version": 3
   },
   "file_extension": ".py",
   "mimetype": "text/x-python",
   "name": "python",
   "nbconvert_exporter": "python",
   "pygments_lexer": "ipython3",
   "version": "3.9.7"
  }
 },
 "nbformat": 4,
 "nbformat_minor": 5
}
