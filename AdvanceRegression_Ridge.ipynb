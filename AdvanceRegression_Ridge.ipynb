{
 "cells": [
  {
   "cell_type": "markdown",
   "id": "6d97db33",
   "metadata": {},
   "source": [
    "# Ridge Regression\n",
    "---"
   ]
  },
  {
   "cell_type": "code",
   "execution_count": 1,
   "id": "f6f5f04f",
   "metadata": {},
   "outputs": [],
   "source": [
    "import pandas as pd\n",
    "import numpy as np\n",
    "import matplotlib.pyplot as plt\n",
    "import seaborn as sns"
   ]
  },
  {
   "cell_type": "code",
   "execution_count": 2,
   "id": "045386ac",
   "metadata": {},
   "outputs": [
    {
     "data": {
      "text/html": [
       "<div>\n",
       "<style scoped>\n",
       "    .dataframe tbody tr th:only-of-type {\n",
       "        vertical-align: middle;\n",
       "    }\n",
       "\n",
       "    .dataframe tbody tr th {\n",
       "        vertical-align: top;\n",
       "    }\n",
       "\n",
       "    .dataframe thead th {\n",
       "        text-align: right;\n",
       "    }\n",
       "</style>\n",
       "<table border=\"1\" class=\"dataframe\">\n",
       "  <thead>\n",
       "    <tr style=\"text-align: right;\">\n",
       "      <th></th>\n",
       "      <th>Date</th>\n",
       "      <th>Time</th>\n",
       "      <th>Averaged_concentrationCO(GT)</th>\n",
       "      <th>averaged_sensor_responsePT08.S1(CO)</th>\n",
       "      <th>Non_Metanic_HydroCarbons_concentration(GT)</th>\n",
       "      <th>Benzene_concentrationC6H6(GT)</th>\n",
       "      <th>titania_PT08.S2(NMHC)</th>\n",
       "      <th>NOx concentration(GT)</th>\n",
       "      <th>Tungsten_oxidePT08.S3(NOx)</th>\n",
       "      <th>NO2_concentration(GT)</th>\n",
       "      <th>Tungsten_oxidePT08.S4(NO2)</th>\n",
       "      <th>Indium_oxide_PT08.S5(O3)</th>\n",
       "      <th>Temp</th>\n",
       "      <th>Relative_Humidity</th>\n",
       "      <th>AbsoluteHumidity</th>\n",
       "      <th>Unnamed: 15</th>\n",
       "      <th>Unnamed: 16</th>\n",
       "    </tr>\n",
       "  </thead>\n",
       "  <tbody>\n",
       "    <tr>\n",
       "      <th>0</th>\n",
       "      <td>2004-03-10</td>\n",
       "      <td>18:00:00</td>\n",
       "      <td>2.6</td>\n",
       "      <td>1360.00</td>\n",
       "      <td>150</td>\n",
       "      <td>11.881723</td>\n",
       "      <td>1045.50</td>\n",
       "      <td>166.0</td>\n",
       "      <td>1056.25</td>\n",
       "      <td>113.0</td>\n",
       "      <td>1692.00</td>\n",
       "      <td>1267.50</td>\n",
       "      <td>13.60</td>\n",
       "      <td>48.875001</td>\n",
       "      <td>0.757754</td>\n",
       "      <td>NaN</td>\n",
       "      <td>NaN</td>\n",
       "    </tr>\n",
       "    <tr>\n",
       "      <th>1</th>\n",
       "      <td>2004-03-10</td>\n",
       "      <td>19:00:00</td>\n",
       "      <td>2.0</td>\n",
       "      <td>1292.25</td>\n",
       "      <td>112</td>\n",
       "      <td>9.397165</td>\n",
       "      <td>954.75</td>\n",
       "      <td>103.0</td>\n",
       "      <td>1173.75</td>\n",
       "      <td>92.0</td>\n",
       "      <td>1558.75</td>\n",
       "      <td>972.25</td>\n",
       "      <td>13.30</td>\n",
       "      <td>47.700000</td>\n",
       "      <td>0.725487</td>\n",
       "      <td>NaN</td>\n",
       "      <td>NaN</td>\n",
       "    </tr>\n",
       "    <tr>\n",
       "      <th>2</th>\n",
       "      <td>2004-03-10</td>\n",
       "      <td>20:00:00</td>\n",
       "      <td>2.2</td>\n",
       "      <td>1402.00</td>\n",
       "      <td>88</td>\n",
       "      <td>8.997817</td>\n",
       "      <td>939.25</td>\n",
       "      <td>131.0</td>\n",
       "      <td>1140.00</td>\n",
       "      <td>114.0</td>\n",
       "      <td>1554.50</td>\n",
       "      <td>1074.00</td>\n",
       "      <td>11.90</td>\n",
       "      <td>53.975000</td>\n",
       "      <td>0.750239</td>\n",
       "      <td>NaN</td>\n",
       "      <td>NaN</td>\n",
       "    </tr>\n",
       "    <tr>\n",
       "      <th>3</th>\n",
       "      <td>2004-03-10</td>\n",
       "      <td>21:00:00</td>\n",
       "      <td>2.2</td>\n",
       "      <td>1375.50</td>\n",
       "      <td>80</td>\n",
       "      <td>9.228796</td>\n",
       "      <td>948.25</td>\n",
       "      <td>172.0</td>\n",
       "      <td>1092.00</td>\n",
       "      <td>122.0</td>\n",
       "      <td>1583.75</td>\n",
       "      <td>1203.25</td>\n",
       "      <td>11.00</td>\n",
       "      <td>60.000000</td>\n",
       "      <td>0.786713</td>\n",
       "      <td>NaN</td>\n",
       "      <td>NaN</td>\n",
       "    </tr>\n",
       "    <tr>\n",
       "      <th>4</th>\n",
       "      <td>2004-03-10</td>\n",
       "      <td>22:00:00</td>\n",
       "      <td>1.6</td>\n",
       "      <td>1272.25</td>\n",
       "      <td>51</td>\n",
       "      <td>6.518224</td>\n",
       "      <td>835.50</td>\n",
       "      <td>131.0</td>\n",
       "      <td>1205.00</td>\n",
       "      <td>116.0</td>\n",
       "      <td>1490.00</td>\n",
       "      <td>1110.00</td>\n",
       "      <td>11.15</td>\n",
       "      <td>59.575001</td>\n",
       "      <td>0.788794</td>\n",
       "      <td>NaN</td>\n",
       "      <td>NaN</td>\n",
       "    </tr>\n",
       "  </tbody>\n",
       "</table>\n",
       "</div>"
      ],
      "text/plain": [
       "        Date      Time  Averaged_concentrationCO(GT)  \\\n",
       "0 2004-03-10  18:00:00                           2.6   \n",
       "1 2004-03-10  19:00:00                           2.0   \n",
       "2 2004-03-10  20:00:00                           2.2   \n",
       "3 2004-03-10  21:00:00                           2.2   \n",
       "4 2004-03-10  22:00:00                           1.6   \n",
       "\n",
       "   averaged_sensor_responsePT08.S1(CO)  \\\n",
       "0                              1360.00   \n",
       "1                              1292.25   \n",
       "2                              1402.00   \n",
       "3                              1375.50   \n",
       "4                              1272.25   \n",
       "\n",
       "   Non_Metanic_HydroCarbons_concentration(GT)  Benzene_concentrationC6H6(GT)  \\\n",
       "0                                         150                      11.881723   \n",
       "1                                         112                       9.397165   \n",
       "2                                          88                       8.997817   \n",
       "3                                          80                       9.228796   \n",
       "4                                          51                       6.518224   \n",
       "\n",
       "   titania_PT08.S2(NMHC)  NOx concentration(GT)  Tungsten_oxidePT08.S3(NOx)  \\\n",
       "0                1045.50                  166.0                     1056.25   \n",
       "1                 954.75                  103.0                     1173.75   \n",
       "2                 939.25                  131.0                     1140.00   \n",
       "3                 948.25                  172.0                     1092.00   \n",
       "4                 835.50                  131.0                     1205.00   \n",
       "\n",
       "   NO2_concentration(GT)  Tungsten_oxidePT08.S4(NO2)  \\\n",
       "0                  113.0                     1692.00   \n",
       "1                   92.0                     1558.75   \n",
       "2                  114.0                     1554.50   \n",
       "3                  122.0                     1583.75   \n",
       "4                  116.0                     1490.00   \n",
       "\n",
       "   Indium_oxide_PT08.S5(O3)   Temp  Relative_Humidity  AbsoluteHumidity  \\\n",
       "0                   1267.50  13.60          48.875001          0.757754   \n",
       "1                    972.25  13.30          47.700000          0.725487   \n",
       "2                   1074.00  11.90          53.975000          0.750239   \n",
       "3                   1203.25  11.00          60.000000          0.786713   \n",
       "4                   1110.00  11.15          59.575001          0.788794   \n",
       "\n",
       "   Unnamed: 15  Unnamed: 16  \n",
       "0          NaN          NaN  \n",
       "1          NaN          NaN  \n",
       "2          NaN          NaN  \n",
       "3          NaN          NaN  \n",
       "4          NaN          NaN  "
      ]
     },
     "execution_count": 2,
     "metadata": {},
     "output_type": "execute_result"
    }
   ],
   "source": [
    "data= pd.read_excel('./AirQualityUCI.xlsx')\n",
    "data.head()"
   ]
  },
  {
   "cell_type": "code",
   "execution_count": 3,
   "id": "bc126c3d",
   "metadata": {},
   "outputs": [
    {
     "data": {
      "text/plain": [
       "Index(['Date', 'Time', 'Averaged_concentrationCO(GT)',\n",
       "       'averaged_sensor_responsePT08.S1(CO)',\n",
       "       'Non_Metanic_HydroCarbons_concentration(GT)',\n",
       "       'Benzene_concentrationC6H6(GT)', 'titania_PT08.S2(NMHC)',\n",
       "       'NOx concentration(GT)', 'Tungsten_oxidePT08.S3(NOx)',\n",
       "       'NO2_concentration(GT)', 'Tungsten_oxidePT08.S4(NO2)',\n",
       "       'Indium_oxide_PT08.S5(O3)', 'Temp', 'Relative_Humidity',\n",
       "       'AbsoluteHumidity', 'Unnamed: 15', 'Unnamed: 16'],\n",
       "      dtype='object')"
      ]
     },
     "execution_count": 3,
     "metadata": {},
     "output_type": "execute_result"
    }
   ],
   "source": [
    "data.columns"
   ]
  },
  {
   "cell_type": "code",
   "execution_count": 4,
   "id": "3911601b",
   "metadata": {},
   "outputs": [],
   "source": [
    "data.drop(labels=['Date', 'Time','AbsoluteHumidity', 'Unnamed: 15', 'Unnamed: 16'],\n",
    "         axis=1, inplace=True)"
   ]
  },
  {
   "cell_type": "code",
   "execution_count": 5,
   "id": "883e072a",
   "metadata": {},
   "outputs": [
    {
     "data": {
      "text/html": [
       "<div>\n",
       "<style scoped>\n",
       "    .dataframe tbody tr th:only-of-type {\n",
       "        vertical-align: middle;\n",
       "    }\n",
       "\n",
       "    .dataframe tbody tr th {\n",
       "        vertical-align: top;\n",
       "    }\n",
       "\n",
       "    .dataframe thead th {\n",
       "        text-align: right;\n",
       "    }\n",
       "</style>\n",
       "<table border=\"1\" class=\"dataframe\">\n",
       "  <thead>\n",
       "    <tr style=\"text-align: right;\">\n",
       "      <th></th>\n",
       "      <th>Averaged_concentrationCO(GT)</th>\n",
       "      <th>averaged_sensor_responsePT08.S1(CO)</th>\n",
       "      <th>Non_Metanic_HydroCarbons_concentration(GT)</th>\n",
       "      <th>Benzene_concentrationC6H6(GT)</th>\n",
       "      <th>titania_PT08.S2(NMHC)</th>\n",
       "      <th>NOx concentration(GT)</th>\n",
       "      <th>Tungsten_oxidePT08.S3(NOx)</th>\n",
       "      <th>NO2_concentration(GT)</th>\n",
       "      <th>Tungsten_oxidePT08.S4(NO2)</th>\n",
       "      <th>Indium_oxide_PT08.S5(O3)</th>\n",
       "      <th>Temp</th>\n",
       "      <th>Relative_Humidity</th>\n",
       "    </tr>\n",
       "  </thead>\n",
       "  <tbody>\n",
       "    <tr>\n",
       "      <th>0</th>\n",
       "      <td>2.6</td>\n",
       "      <td>1360.0</td>\n",
       "      <td>150</td>\n",
       "      <td>11.881723</td>\n",
       "      <td>1045.5</td>\n",
       "      <td>166.0</td>\n",
       "      <td>1056.25</td>\n",
       "      <td>113.0</td>\n",
       "      <td>1692.0</td>\n",
       "      <td>1267.5</td>\n",
       "      <td>13.6</td>\n",
       "      <td>48.875001</td>\n",
       "    </tr>\n",
       "  </tbody>\n",
       "</table>\n",
       "</div>"
      ],
      "text/plain": [
       "   Averaged_concentrationCO(GT)  averaged_sensor_responsePT08.S1(CO)  \\\n",
       "0                           2.6                               1360.0   \n",
       "\n",
       "   Non_Metanic_HydroCarbons_concentration(GT)  Benzene_concentrationC6H6(GT)  \\\n",
       "0                                         150                      11.881723   \n",
       "\n",
       "   titania_PT08.S2(NMHC)  NOx concentration(GT)  Tungsten_oxidePT08.S3(NOx)  \\\n",
       "0                 1045.5                  166.0                     1056.25   \n",
       "\n",
       "   NO2_concentration(GT)  Tungsten_oxidePT08.S4(NO2)  \\\n",
       "0                  113.0                      1692.0   \n",
       "\n",
       "   Indium_oxide_PT08.S5(O3)  Temp  Relative_Humidity  \n",
       "0                    1267.5  13.6          48.875001  "
      ]
     },
     "execution_count": 5,
     "metadata": {},
     "output_type": "execute_result"
    }
   ],
   "source": [
    "data.head(1)"
   ]
  },
  {
   "cell_type": "code",
   "execution_count": 6,
   "id": "7a6eba9e",
   "metadata": {},
   "outputs": [
    {
     "data": {
      "text/plain": [
       "Averaged_concentrationCO(GT)                  0\n",
       "averaged_sensor_responsePT08.S1(CO)           0\n",
       "Non_Metanic_HydroCarbons_concentration(GT)    0\n",
       "Benzene_concentrationC6H6(GT)                 0\n",
       "titania_PT08.S2(NMHC)                         0\n",
       "NOx concentration(GT)                         0\n",
       "Tungsten_oxidePT08.S3(NOx)                    0\n",
       "NO2_concentration(GT)                         0\n",
       "Tungsten_oxidePT08.S4(NO2)                    0\n",
       "Indium_oxide_PT08.S5(O3)                      0\n",
       "Temp                                          0\n",
       "Relative_Humidity                             0\n",
       "dtype: int64"
      ]
     },
     "execution_count": 6,
     "metadata": {},
     "output_type": "execute_result"
    }
   ],
   "source": [
    "data.isnull().sum()"
   ]
  },
  {
   "cell_type": "code",
   "execution_count": 7,
   "id": "75117fc6",
   "metadata": {},
   "outputs": [],
   "source": [
    "# correlation\n",
    "corrData= data.corr()"
   ]
  },
  {
   "cell_type": "code",
   "execution_count": 8,
   "id": "f23e645a",
   "metadata": {},
   "outputs": [
    {
     "data": {
      "image/png": "[encoded data removed]",
      "text/plain": [
       "<Figure size 720x576 with 2 Axes>"
      ]
     },
     "metadata": {
      "needs_background": "light"
     },
     "output_type": "display_data"
    }
   ],
   "source": [
    "plt.figure(figsize=(10,8))\n",
    "sns.heatmap(corrData)\n",
    "plt.show()"
   ]
  },
  {
   "cell_type": "code",
   "execution_count": 9,
   "id": "65258b92",
   "metadata": {},
   "outputs": [],
   "source": [
    "# split the data into x and y\n",
    "x= data.iloc[:,:-1]\n",
    "y= data.iloc[:,-1]"
   ]
  },
  {
   "cell_type": "code",
   "execution_count": 10,
   "id": "21bb0eb0",
   "metadata": {},
   "outputs": [],
   "source": [
    "# Train and test split\n",
    "from sklearn.model_selection import train_test_split\n",
    "x_train, x_test, y_train, y_test=train_test_split(x,y,train_size=0.8, random_state=10)"
   ]
  },
  {
   "cell_type": "code",
   "execution_count": 12,
   "id": "e0743849",
   "metadata": {},
   "outputs": [],
   "source": [
    "# Ridge model\n",
    "from sklearn.linear_model import Ridge\n",
    "ridge=Ridge(alpha=1.0)"
   ]
  },
  {
   "cell_type": "code",
   "execution_count": 13,
   "id": "0d2c7549",
   "metadata": {},
   "outputs": [
    {
     "data": {
      "text/plain": [
       "Ridge()"
      ]
     },
     "execution_count": 13,
     "metadata": {},
     "output_type": "execute_result"
    }
   ],
   "source": [
    "ridge.fit(x_train, y_train)"
   ]
  },
  {
   "cell_type": "code",
   "execution_count": 14,
   "id": "fa952b23",
   "metadata": {},
   "outputs": [],
   "source": [
    "y_pred= ridge.predict(x_test)"
   ]
  },
  {
   "cell_type": "code",
   "execution_count": 15,
   "id": "76b6ef18",
   "metadata": {},
   "outputs": [
    {
     "data": {
      "text/plain": [
       "array([  48.35152044, -207.04505952,   68.39792113, ...,   51.38024603,\n",
       "         65.44896477,   61.41545364])"
      ]
     },
     "execution_count": 15,
     "metadata": {},
     "output_type": "execute_result"
    }
   ],
   "source": [
    "y_pred"
   ]
  },
  {
   "cell_type": "code",
   "execution_count": 16,
   "id": "846491b6",
   "metadata": {},
   "outputs": [
    {
     "data": {
      "text/plain": [
       "array([ 0.00748343,  0.01202227, -0.01237124,  3.45912134, -0.18910329,\n",
       "        0.02154134, -0.03635821, -0.03887763,  0.05349868,  0.00426162,\n",
       "       -1.5246615 ])"
      ]
     },
     "execution_count": 16,
     "metadata": {},
     "output_type": "execute_result"
    }
   ],
   "source": [
    "# slopes\n",
    "ridge.coef_"
   ]
  },
  {
   "cell_type": "code",
   "execution_count": 17,
   "id": "b4a4e925",
   "metadata": {},
   "outputs": [
    {
     "data": {
      "text/plain": [
       "151.7332116703823"
      ]
     },
     "execution_count": 17,
     "metadata": {},
     "output_type": "execute_result"
    }
   ],
   "source": [
    "# intercept\n",
    "ridge.intercept_"
   ]
  },
  {
   "cell_type": "code",
   "execution_count": 18,
   "id": "79919ef5",
   "metadata": {},
   "outputs": [
    {
     "data": {
      "text/plain": [
       "91.92527563084978"
      ]
     },
     "execution_count": 18,
     "metadata": {},
     "output_type": "execute_result"
    }
   ],
   "source": [
    "# mean square error\n",
    "from sklearn.metrics import mean_squared_error\n",
    "mean_squared_error(y_test,y_pred)"
   ]
  },
  {
   "cell_type": "code",
   "execution_count": 19,
   "id": "dd6d7bfc",
   "metadata": {},
   "outputs": [
    {
     "data": {
      "text/plain": [
       "9.587766978334933"
      ]
     },
     "execution_count": 19,
     "metadata": {},
     "output_type": "execute_result"
    }
   ],
   "source": [
    "# RMSE\n",
    "np.sqrt(mean_squared_error(y_test,y_pred))"
   ]
  },
  {
   "cell_type": "code",
   "execution_count": 20,
   "id": "6e91639c",
   "metadata": {},
   "outputs": [
    {
     "data": {
      "text/plain": [
       "0.9595739675575229"
      ]
     },
     "execution_count": 20,
     "metadata": {},
     "output_type": "execute_result"
    }
   ],
   "source": [
    "# R square \n",
    "ridge.score(x_test, y_test)"
   ]
  },
  {
   "cell_type": "code",
   "execution_count": null,
   "id": "251fa0ed",
   "metadata": {},
   "outputs": [],
   "source": []
  }
 ],
 "metadata": {
  "kernelspec": {
   "display_name": "Python 3 (ipykernel)",
   "language": "python",
   "name": "python3"
  },
  "language_info": {
   "codemirror_mode": {
    "name": "ipython",
    "version": 3
   },
   "file_extension": ".py",
   "mimetype": "text/x-python",
   "name": "python",
   "nbconvert_exporter": "python",
   "pygments_lexer": "ipython3",
   "version": "3.9.7"
  }
 },
 "nbformat": 4,
 "nbformat_minor": 5
}
