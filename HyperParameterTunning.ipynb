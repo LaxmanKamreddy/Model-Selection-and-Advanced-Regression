{
 "cells": [
  {
   "cell_type": "markdown",
   "id": "b9713922",
   "metadata": {},
   "source": [
    "## Hyperparameter Tunning\n",
    "---"
   ]
  },
  {
   "cell_type": "code",
   "execution_count": 1,
   "id": "8d399e79",
   "metadata": {},
   "outputs": [],
   "source": [
    "import pandas as pd"
   ]
  },
  {
   "cell_type": "code",
   "execution_count": 2,
   "id": "f8414b00",
   "metadata": {},
   "outputs": [],
   "source": [
    "data= pd.read_excel('./Ether Fraud Transaction case study.xlsx')"
   ]
  },
  {
   "cell_type": "code",
   "execution_count": 3,
   "id": "1c07ddd4",
   "metadata": {},
   "outputs": [
    {
     "data": {
      "text/html": [
       "<div>\n",
       "<style scoped>\n",
       "    .dataframe tbody tr th:only-of-type {\n",
       "        vertical-align: middle;\n",
       "    }\n",
       "\n",
       "    .dataframe tbody tr th {\n",
       "        vertical-align: top;\n",
       "    }\n",
       "\n",
       "    .dataframe thead th {\n",
       "        text-align: right;\n",
       "    }\n",
       "</style>\n",
       "<table border=\"1\" class=\"dataframe\">\n",
       "  <thead>\n",
       "    <tr style=\"text-align: right;\">\n",
       "      <th></th>\n",
       "      <th>FLAG</th>\n",
       "      <th>Avg _Min_Sent_txn</th>\n",
       "      <th>Avg _Min_Recv_txn</th>\n",
       "      <th>Time_Diff</th>\n",
       "      <th>Min value received</th>\n",
       "      <th>Max value received</th>\n",
       "      <th>Min value sent</th>\n",
       "      <th>Max value sent</th>\n",
       "      <th>Total transactions</th>\n",
       "    </tr>\n",
       "  </thead>\n",
       "  <tbody>\n",
       "    <tr>\n",
       "      <th>0</th>\n",
       "      <td>0</td>\n",
       "      <td>21.80</td>\n",
       "      <td>0.00</td>\n",
       "      <td>65.40</td>\n",
       "      <td>101.000000</td>\n",
       "      <td>101.000000</td>\n",
       "      <td>1.000000</td>\n",
       "      <td>84.176518</td>\n",
       "      <td>4</td>\n",
       "    </tr>\n",
       "    <tr>\n",
       "      <th>1</th>\n",
       "      <td>0</td>\n",
       "      <td>1073.76</td>\n",
       "      <td>1476.59</td>\n",
       "      <td>24563.10</td>\n",
       "      <td>0.216334</td>\n",
       "      <td>6.999559</td>\n",
       "      <td>0.000000</td>\n",
       "      <td>7.557834</td>\n",
       "      <td>21</td>\n",
       "    </tr>\n",
       "    <tr>\n",
       "      <th>2</th>\n",
       "      <td>0</td>\n",
       "      <td>13.57</td>\n",
       "      <td>10125.40</td>\n",
       "      <td>638755.18</td>\n",
       "      <td>0.010053</td>\n",
       "      <td>20.000000</td>\n",
       "      <td>0.008583</td>\n",
       "      <td>19.999769</td>\n",
       "      <td>126</td>\n",
       "    </tr>\n",
       "    <tr>\n",
       "      <th>3</th>\n",
       "      <td>0</td>\n",
       "      <td>163765.17</td>\n",
       "      <td>0.00</td>\n",
       "      <td>327530.33</td>\n",
       "      <td>0.002457</td>\n",
       "      <td>0.002457</td>\n",
       "      <td>0.000000</td>\n",
       "      <td>0.000508</td>\n",
       "      <td>3</td>\n",
       "    </tr>\n",
       "    <tr>\n",
       "      <th>4</th>\n",
       "      <td>0</td>\n",
       "      <td>22371.43</td>\n",
       "      <td>29004.65</td>\n",
       "      <td>596613.23</td>\n",
       "      <td>0.005441</td>\n",
       "      <td>1000.000000</td>\n",
       "      <td>0.000000</td>\n",
       "      <td>1000.000000</td>\n",
       "      <td>25</td>\n",
       "    </tr>\n",
       "  </tbody>\n",
       "</table>\n",
       "</div>"
      ],
      "text/plain": [
       "   FLAG  Avg _Min_Sent_txn  Avg _Min_Recv_txn  Time_Diff  Min value received  \\\n",
       "0     0              21.80               0.00      65.40          101.000000   \n",
       "1     0            1073.76            1476.59   24563.10            0.216334   \n",
       "2     0              13.57           10125.40  638755.18            0.010053   \n",
       "3     0          163765.17               0.00  327530.33            0.002457   \n",
       "4     0           22371.43           29004.65  596613.23            0.005441   \n",
       "\n",
       "   Max value received   Min value sent  Max value sent  Total transactions  \n",
       "0           101.000000        1.000000       84.176518                   4  \n",
       "1             6.999559        0.000000        7.557834                  21  \n",
       "2            20.000000        0.008583       19.999769                 126  \n",
       "3             0.002457        0.000000        0.000508                   3  \n",
       "4          1000.000000        0.000000     1000.000000                  25  "
      ]
     },
     "execution_count": 3,
     "metadata": {},
     "output_type": "execute_result"
    }
   ],
   "source": [
    "data.head(5)"
   ]
  },
  {
   "cell_type": "code",
   "execution_count": 4,
   "id": "7dc6b42a",
   "metadata": {},
   "outputs": [],
   "source": [
    "# splitting the data into x and y\n",
    "x= data.iloc[:,1:]\n",
    "y= data.iloc[:,0]"
   ]
  },
  {
   "cell_type": "code",
   "execution_count": 5,
   "id": "9f734292",
   "metadata": {},
   "outputs": [],
   "source": [
    "# Scalling the independent variables\n",
    "\n",
    "from sklearn.preprocessing import StandardScaler\n",
    "sc= StandardScaler()"
   ]
  },
  {
   "cell_type": "code",
   "execution_count": 6,
   "id": "e47c1856",
   "metadata": {},
   "outputs": [],
   "source": [
    "x_scaled= sc.fit_transform(x)"
   ]
  },
  {
   "cell_type": "code",
   "execution_count": 7,
   "id": "ad9d8771",
   "metadata": {},
   "outputs": [],
   "source": [
    "# train and test split\n",
    "from sklearn.model_selection import train_test_split\n",
    "x_train, x_test, y_train,y_test=train_test_split(x_scaled,y,test_size=0.3, random_state=10)"
   ]
  },
  {
   "cell_type": "code",
   "execution_count": 8,
   "id": "b0444646",
   "metadata": {},
   "outputs": [],
   "source": [
    "# importing svm\n",
    "from sklearn import svm"
   ]
  },
  {
   "cell_type": "code",
   "execution_count": 17,
   "id": "f1b158e3",
   "metadata": {},
   "outputs": [],
   "source": [
    "model= svm.SVC(kernel='rbf', C=30, gamma='auto')"
   ]
  },
  {
   "cell_type": "code",
   "execution_count": 18,
   "id": "86f645bb",
   "metadata": {},
   "outputs": [
    {
     "data": {
      "text/plain": [
       "0.8265582655826558"
      ]
     },
     "execution_count": 18,
     "metadata": {},
     "output_type": "execute_result"
    }
   ],
   "source": [
    "model.fit(x_train,y_train)\n",
    "model.score(x_test,y_test)"
   ]
  },
  {
   "cell_type": "code",
   "execution_count": 9,
   "id": "ada533ed",
   "metadata": {},
   "outputs": [],
   "source": [
    "# GridsearchCV\n",
    "\n",
    "from sklearn.model_selection import GridSearchCV\n"
   ]
  },
  {
   "cell_type": "code",
   "execution_count": 10,
   "id": "9e2d2cbc",
   "metadata": {},
   "outputs": [
    {
     "data": {
      "text/plain": [
       "{'mean_fit_time': array([1.76540227, 2.1964561 , 2.41147723]),\n",
       " 'std_fit_time': array([0.226438  , 0.40576326, 0.1494652 ]),\n",
       " 'mean_score_time': array([0.71195374, 1.07928696, 0.98672624]),\n",
       " 'std_score_time': array([0.14933567, 0.07748592, 0.08906927]),\n",
       " 'param_C': masked_array(data=[1, 10, 30],\n",
       "              mask=[False, False, False],\n",
       "        fill_value='?',\n",
       "             dtype=object),\n",
       " 'param_kernel': masked_array(data=['rbf', 'rbf', 'rbf'],\n",
       "              mask=[False, False, False],\n",
       "        fill_value='?',\n",
       "             dtype=object),\n",
       " 'params': [{'C': 1, 'kernel': 'rbf'},\n",
       "  {'C': 10, 'kernel': 'rbf'},\n",
       "  {'C': 30, 'kernel': 'rbf'}],\n",
       " 'split0_test_score': array([0.77358491, 0.82801161, 0.81132075]),\n",
       " 'split1_test_score': array([0.7743106 , 0.80624093, 0.8149492 ]),\n",
       " 'split2_test_score': array([0.77503628, 0.78955007, 0.83309144]),\n",
       " 'split3_test_score': array([0.77559913, 0.7966594 , 0.83224401]),\n",
       " 'split4_test_score': array([0.77487291, 0.7966594 , 0.83079158]),\n",
       " 'mean_test_score': array([0.77468077, 0.80342428, 0.8244794 ]),\n",
       " 'std_test_score': array([0.00068478, 0.01339023, 0.00936242]),\n",
       " 'rank_test_score': array([3, 2, 1])}"
      ]
     },
     "execution_count": 10,
     "metadata": {},
     "output_type": "execute_result"
    }
   ],
   "source": [
    "gsCV= GridSearchCV(svm.SVC(gamma='auto'),{\n",
    "    'C':[1,10,30],\n",
    "    'kernel':['rbf']\n",
    "    },cv=5,return_train_score=False)\n",
    "\n",
    "gsCV.fit(x_train,y_train)\n",
    "gsCV.cv_results_\n",
    "\n"
   ]
  },
  {
   "cell_type": "code",
   "execution_count": 11,
   "id": "0cd9177d",
   "metadata": {},
   "outputs": [
    {
     "data": {
      "text/plain": [
       "['__abstractmethods__',\n",
       " '__class__',\n",
       " '__delattr__',\n",
       " '__dict__',\n",
       " '__dir__',\n",
       " '__doc__',\n",
       " '__eq__',\n",
       " '__format__',\n",
       " '__ge__',\n",
       " '__getattribute__',\n",
       " '__getstate__',\n",
       " '__gt__',\n",
       " '__hash__',\n",
       " '__init__',\n",
       " '__init_subclass__',\n",
       " '__le__',\n",
       " '__lt__',\n",
       " '__module__',\n",
       " '__ne__',\n",
       " '__new__',\n",
       " '__reduce__',\n",
       " '__reduce_ex__',\n",
       " '__repr__',\n",
       " '__setattr__',\n",
       " '__setstate__',\n",
       " '__sizeof__',\n",
       " '__str__',\n",
       " '__subclasshook__',\n",
       " '__weakref__',\n",
       " '_abc_impl',\n",
       " '_check_is_fitted',\n",
       " '_check_n_features',\n",
       " '_check_refit_for_multimetric',\n",
       " '_estimator_type',\n",
       " '_format_results',\n",
       " '_get_param_names',\n",
       " '_get_tags',\n",
       " '_more_tags',\n",
       " '_pairwise',\n",
       " '_repr_html_',\n",
       " '_repr_html_inner',\n",
       " '_repr_mimebundle_',\n",
       " '_required_parameters',\n",
       " '_run_search',\n",
       " '_validate_data',\n",
       " 'best_estimator_',\n",
       " 'best_index_',\n",
       " 'best_params_',\n",
       " 'best_score_',\n",
       " 'classes_',\n",
       " 'cv',\n",
       " 'cv_results_',\n",
       " 'decision_function',\n",
       " 'error_score',\n",
       " 'estimator',\n",
       " 'fit',\n",
       " 'get_params',\n",
       " 'inverse_transform',\n",
       " 'multimetric_',\n",
       " 'n_features_in_',\n",
       " 'n_jobs',\n",
       " 'n_splits_',\n",
       " 'param_grid',\n",
       " 'pre_dispatch',\n",
       " 'predict',\n",
       " 'predict_log_proba',\n",
       " 'predict_proba',\n",
       " 'refit',\n",
       " 'refit_time_',\n",
       " 'return_train_score',\n",
       " 'score',\n",
       " 'score_samples',\n",
       " 'scorer_',\n",
       " 'scoring',\n",
       " 'set_params',\n",
       " 'transform',\n",
       " 'verbose']"
      ]
     },
     "execution_count": 11,
     "metadata": {},
     "output_type": "execute_result"
    }
   ],
   "source": [
    "dir(gsCV)"
   ]
  },
  {
   "cell_type": "code",
   "execution_count": 12,
   "id": "921db305",
   "metadata": {},
   "outputs": [
    {
     "data": {
      "text/plain": [
       "{'C': 30, 'kernel': 'rbf'}"
      ]
     },
     "execution_count": 12,
     "metadata": {},
     "output_type": "execute_result"
    }
   ],
   "source": [
    "gsCV.best_params_"
   ]
  },
  {
   "cell_type": "code",
   "execution_count": 13,
   "id": "3911db27",
   "metadata": {},
   "outputs": [
    {
     "data": {
      "text/plain": [
       "0.8244793955855739"
      ]
     },
     "execution_count": 13,
     "metadata": {},
     "output_type": "execute_result"
    }
   ],
   "source": [
    "gsCV.best_score_"
   ]
  },
  {
   "cell_type": "code",
   "execution_count": 18,
   "id": "c9850a8e",
   "metadata": {},
   "outputs": [],
   "source": [
    "# Using SVM"
   ]
  },
  {
   "cell_type": "code",
   "execution_count": 14,
   "id": "1cbb4165",
   "metadata": {},
   "outputs": [
    {
     "data": {
      "text/plain": [
       "{'mean_fit_time': array([1.9512084 , 9.44154634]),\n",
       " 'std_fit_time': array([0.10449788, 2.37222285]),\n",
       " 'mean_score_time': array([0.76954517, 0.24155078]),\n",
       " 'std_score_time': array([0.02410617, 0.07151842]),\n",
       " 'param_kernel': masked_array(data=['rbf', 'linear'],\n",
       "              mask=[False, False],\n",
       "        fill_value='?',\n",
       "             dtype=object),\n",
       " 'param_C': masked_array(data=[20, 10],\n",
       "              mask=[False, False],\n",
       "        fill_value='?',\n",
       "             dtype=object),\n",
       " 'params': [{'kernel': 'rbf', 'C': 20}, {'kernel': 'linear', 'C': 10}],\n",
       " 'split0_test_score': array([0.808418 , 0.7743106]),\n",
       " 'split1_test_score': array([0.81422351, 0.7743106 ]),\n",
       " 'split2_test_score': array([0.84325109, 0.77503628]),\n",
       " 'split3_test_score': array([0.82933914, 0.77487291]),\n",
       " 'split4_test_score': array([0.83950617, 0.77487291]),\n",
       " 'mean_test_score': array([0.82694758, 0.77468066]),\n",
       " 'std_test_score': array([0.01367106, 0.00030799]),\n",
       " 'rank_test_score': array([1, 2])}"
      ]
     },
     "execution_count": 14,
     "metadata": {},
     "output_type": "execute_result"
    }
   ],
   "source": [
    "from sklearn.model_selection import RandomizedSearchCV\n",
    "rsCV=RandomizedSearchCV(svm.SVC(gamma='auto'),{\n",
    "    'C':[1,10,20],\n",
    "    'kernel':['rbf','linear']\n",
    "}, cv=5, return_train_score=False, n_iter=2)\n",
    "rsCV.fit(x_train,y_train)\n",
    "rsCV.cv_results_"
   ]
  },
  {
   "cell_type": "code",
   "execution_count": 15,
   "id": "ab7e41a5",
   "metadata": {},
   "outputs": [
    {
     "data": {
      "text/html": [
       "<div>\n",
       "<style scoped>\n",
       "    .dataframe tbody tr th:only-of-type {\n",
       "        vertical-align: middle;\n",
       "    }\n",
       "\n",
       "    .dataframe tbody tr th {\n",
       "        vertical-align: top;\n",
       "    }\n",
       "\n",
       "    .dataframe thead th {\n",
       "        text-align: right;\n",
       "    }\n",
       "</style>\n",
       "<table border=\"1\" class=\"dataframe\">\n",
       "  <thead>\n",
       "    <tr style=\"text-align: right;\">\n",
       "      <th></th>\n",
       "      <th>mean_fit_time</th>\n",
       "      <th>std_fit_time</th>\n",
       "      <th>mean_score_time</th>\n",
       "      <th>std_score_time</th>\n",
       "      <th>param_kernel</th>\n",
       "      <th>param_C</th>\n",
       "      <th>params</th>\n",
       "      <th>split0_test_score</th>\n",
       "      <th>split1_test_score</th>\n",
       "      <th>split2_test_score</th>\n",
       "      <th>split3_test_score</th>\n",
       "      <th>split4_test_score</th>\n",
       "      <th>mean_test_score</th>\n",
       "      <th>std_test_score</th>\n",
       "      <th>rank_test_score</th>\n",
       "    </tr>\n",
       "  </thead>\n",
       "  <tbody>\n",
       "    <tr>\n",
       "      <th>0</th>\n",
       "      <td>1.951208</td>\n",
       "      <td>0.104498</td>\n",
       "      <td>0.769545</td>\n",
       "      <td>0.024106</td>\n",
       "      <td>rbf</td>\n",
       "      <td>20</td>\n",
       "      <td>{'kernel': 'rbf', 'C': 20}</td>\n",
       "      <td>0.808418</td>\n",
       "      <td>0.814224</td>\n",
       "      <td>0.843251</td>\n",
       "      <td>0.829339</td>\n",
       "      <td>0.839506</td>\n",
       "      <td>0.826948</td>\n",
       "      <td>0.013671</td>\n",
       "      <td>1</td>\n",
       "    </tr>\n",
       "    <tr>\n",
       "      <th>1</th>\n",
       "      <td>9.441546</td>\n",
       "      <td>2.372223</td>\n",
       "      <td>0.241551</td>\n",
       "      <td>0.071518</td>\n",
       "      <td>linear</td>\n",
       "      <td>10</td>\n",
       "      <td>{'kernel': 'linear', 'C': 10}</td>\n",
       "      <td>0.774311</td>\n",
       "      <td>0.774311</td>\n",
       "      <td>0.775036</td>\n",
       "      <td>0.774873</td>\n",
       "      <td>0.774873</td>\n",
       "      <td>0.774681</td>\n",
       "      <td>0.000308</td>\n",
       "      <td>2</td>\n",
       "    </tr>\n",
       "  </tbody>\n",
       "</table>\n",
       "</div>"
      ],
      "text/plain": [
       "   mean_fit_time  std_fit_time  mean_score_time  std_score_time param_kernel  \\\n",
       "0       1.951208      0.104498         0.769545        0.024106          rbf   \n",
       "1       9.441546      2.372223         0.241551        0.071518       linear   \n",
       "\n",
       "  param_C                         params  split0_test_score  \\\n",
       "0      20     {'kernel': 'rbf', 'C': 20}           0.808418   \n",
       "1      10  {'kernel': 'linear', 'C': 10}           0.774311   \n",
       "\n",
       "   split1_test_score  split2_test_score  split3_test_score  split4_test_score  \\\n",
       "0           0.814224           0.843251           0.829339           0.839506   \n",
       "1           0.774311           0.775036           0.774873           0.774873   \n",
       "\n",
       "   mean_test_score  std_test_score  rank_test_score  \n",
       "0         0.826948        0.013671                1  \n",
       "1         0.774681        0.000308                2  "
      ]
     },
     "execution_count": 15,
     "metadata": {},
     "output_type": "execute_result"
    }
   ],
   "source": [
    "pd.DataFrame(rsCV.cv_results_)"
   ]
  },
  {
   "cell_type": "code",
   "execution_count": 16,
   "id": "13268cc7",
   "metadata": {},
   "outputs": [
    {
     "data": {
      "text/plain": [
       "{'kernel': 'rbf', 'C': 20}"
      ]
     },
     "execution_count": 16,
     "metadata": {},
     "output_type": "execute_result"
    }
   ],
   "source": [
    "rsCV.best_params_"
   ]
  },
  {
   "cell_type": "code",
   "execution_count": 17,
   "id": "9fe1067b",
   "metadata": {},
   "outputs": [
    {
     "data": {
      "text/plain": [
       "0.8269475827744419"
      ]
     },
     "execution_count": 17,
     "metadata": {},
     "output_type": "execute_result"
    }
   ],
   "source": [
    "rsCV.best_score_"
   ]
  },
  {
   "cell_type": "code",
   "execution_count": 19,
   "id": "f3cc0010",
   "metadata": {},
   "outputs": [],
   "source": [
    "# Using Random Forest\n",
    "from sklearn.ensemble import RandomForestClassifier"
   ]
  },
  {
   "cell_type": "code",
   "execution_count": 26,
   "id": "25d3914c",
   "metadata": {},
   "outputs": [
    {
     "data": {
      "text/plain": [
       "{'mean_fit_time': array([0.1306386 , 0.25587325]),\n",
       " 'std_fit_time': array([0.01766858, 0.02099043]),\n",
       " 'mean_score_time': array([0.00583148, 0.01019516]),\n",
       " 'std_score_time': array([0.00086893, 0.00227043]),\n",
       " 'param_n_estimators': masked_array(data=[10, 20],\n",
       "              mask=[False, False],\n",
       "        fill_value='?',\n",
       "             dtype=object),\n",
       " 'params': [{'n_estimators': 10}, {'n_estimators': 20}],\n",
       " 'split0_test_score': array([0.92307692, 0.92888244]),\n",
       " 'split1_test_score': array([0.91654572, 0.91654572]),\n",
       " 'split2_test_score': array([0.92307692, 0.92888244]),\n",
       " 'split3_test_score': array([0.93391431, 0.93899782]),\n",
       " 'split4_test_score': array([0.92519971, 0.93246187]),\n",
       " 'mean_test_score': array([0.92436272, 0.92915406]),\n",
       " 'std_test_score': array([0.00559188, 0.00730697]),\n",
       " 'rank_test_score': array([2, 1])}"
      ]
     },
     "execution_count": 26,
     "metadata": {},
     "output_type": "execute_result"
    }
   ],
   "source": [
    "from sklearn.model_selection import RandomizedSearchCV\n",
    "rsCV=RandomizedSearchCV(RandomForestClassifier(),{\n",
    "    'n_estimators':[1,10,20,100]\n",
    "}, cv=5, return_train_score=False, n_iter=2)\n",
    "rsCV.fit(x_train,y_train)\n",
    "rsCV.cv_results_"
   ]
  },
  {
   "cell_type": "code",
   "execution_count": 27,
   "id": "4db891c5",
   "metadata": {},
   "outputs": [
    {
     "data": {
      "text/plain": [
       "{'n_estimators': 20}"
      ]
     },
     "execution_count": 27,
     "metadata": {},
     "output_type": "execute_result"
    }
   ],
   "source": [
    "rsCV.best_params_"
   ]
  },
  {
   "cell_type": "code",
   "execution_count": 28,
   "id": "519ec0c5",
   "metadata": {},
   "outputs": [
    {
     "data": {
      "text/plain": [
       "0.9291540580108837"
      ]
     },
     "execution_count": 28,
     "metadata": {},
     "output_type": "execute_result"
    }
   ],
   "source": [
    "rsCV.best_score_"
   ]
  },
  {
   "cell_type": "code",
   "execution_count": 30,
   "id": "8ba19809",
   "metadata": {},
   "outputs": [],
   "source": [
    "# Genarilised machanism\n",
    "from sklearn import svm\n",
    "from sklearn.ensemble import RandomForestClassifier\n",
    "from sklearn.linear_model import LogisticRegression\n",
    "\n",
    "modelsWithParameters= {\n",
    "    'svm':{\n",
    "        'model':svm.SVC(gamma='auto'),\n",
    "        'param':{\n",
    "            'C':[1,10,30],\n",
    "            'kernel':['rbf','linear']\n",
    "        }\n",
    "    },\n",
    "    'randomForest':{\n",
    "        'model':RandomForestClassifier(),\n",
    "        'param':{\n",
    "            'n_estimators':[1,5,10,100]\n",
    "        }\n",
    "    },\n",
    "    'logisticReg':{\n",
    "        'model':LogisticRegression(solver='liblinear'),\n",
    "        'param':{\n",
    "            'C':[1,5,20]\n",
    "        }\n",
    "    }\n",
    "}"
   ]
  },
  {
   "cell_type": "code",
   "execution_count": 33,
   "id": "3db3c557",
   "metadata": {},
   "outputs": [],
   "source": [
    "# Using RandomizedCV"
   ]
  },
  {
   "cell_type": "code",
   "execution_count": 31,
   "id": "499739dd",
   "metadata": {},
   "outputs": [],
   "source": [
    "# store and show the scores\n",
    "score=[]\n",
    "for modelName,modelparam in modelsWithParameters.items():\n",
    "    rsCV= RandomizedSearchCV(modelparam['model'],modelparam['param'],cv=5,\n",
    "                             return_train_score=False,n_iter=2)\n",
    "    rsCV.fit(x_train,y_train)\n",
    "    score.append({\n",
    "        'model': modelName,\n",
    "        'bestScore': rsCV.best_score_,\n",
    "        'bestParam': rsCV.best_params_\n",
    "    })\n",
    "    "
   ]
  },
  {
   "cell_type": "code",
   "execution_count": 32,
   "id": "8cd703cc",
   "metadata": {},
   "outputs": [
    {
     "data": {
      "text/html": [
       "<div>\n",
       "<style scoped>\n",
       "    .dataframe tbody tr th:only-of-type {\n",
       "        vertical-align: middle;\n",
       "    }\n",
       "\n",
       "    .dataframe tbody tr th {\n",
       "        vertical-align: top;\n",
       "    }\n",
       "\n",
       "    .dataframe thead th {\n",
       "        text-align: right;\n",
       "    }\n",
       "</style>\n",
       "<table border=\"1\" class=\"dataframe\">\n",
       "  <thead>\n",
       "    <tr style=\"text-align: right;\">\n",
       "      <th></th>\n",
       "      <th>model</th>\n",
       "      <th>bestScore</th>\n",
       "      <th>bestParam</th>\n",
       "    </tr>\n",
       "  </thead>\n",
       "  <tbody>\n",
       "    <tr>\n",
       "      <th>0</th>\n",
       "      <td>svm</td>\n",
       "      <td>0.774681</td>\n",
       "      <td>{'kernel': 'rbf', 'C': 1}</td>\n",
       "    </tr>\n",
       "    <tr>\n",
       "      <th>1</th>\n",
       "      <td>randomForest</td>\n",
       "      <td>0.922765</td>\n",
       "      <td>{'n_estimators': 5}</td>\n",
       "    </tr>\n",
       "    <tr>\n",
       "      <th>2</th>\n",
       "      <td>logisticReg</td>\n",
       "      <td>0.774535</td>\n",
       "      <td>{'C': 1}</td>\n",
       "    </tr>\n",
       "  </tbody>\n",
       "</table>\n",
       "</div>"
      ],
      "text/plain": [
       "          model  bestScore                  bestParam\n",
       "0           svm   0.774681  {'kernel': 'rbf', 'C': 1}\n",
       "1  randomForest   0.922765        {'n_estimators': 5}\n",
       "2   logisticReg   0.774535                   {'C': 1}"
      ]
     },
     "execution_count": 32,
     "metadata": {},
     "output_type": "execute_result"
    }
   ],
   "source": [
    "pd.DataFrame(score)"
   ]
  },
  {
   "cell_type": "code",
   "execution_count": null,
   "id": "ebf6392d",
   "metadata": {},
   "outputs": [],
   "source": [
    "# Using GridSearchCV\n",
    "# store and show the scores\n",
    "score=[]\n",
    "for modelName,modelparam in modelsWithParameters.items():\n",
    "    gsCV= GridSearchCV(modelparam['model'],modelparam['param'],cv=5,\n",
    "                             return_train_score=False)\n",
    "    gsCV.fit(x_train,y_train)\n",
    "    score.append({\n",
    "        'model': modelName,\n",
    "        'bestScore': gsCV.best_score_,\n",
    "        'bestParam': gsCV.best_params_\n",
    "    })"
   ]
  },
  {
   "cell_type": "code",
   "execution_count": null,
   "id": "4344aedc",
   "metadata": {},
   "outputs": [],
   "source": []
  }
 ],
 "metadata": {
  "kernelspec": {
   "display_name": "Python 3 (ipykernel)",
   "language": "python",
   "name": "python3"
  },
  "language_info": {
   "codemirror_mode": {
    "name": "ipython",
    "version": 3
   },
   "file_extension": ".py",
   "mimetype": "text/x-python",
   "name": "python",
   "nbconvert_exporter": "python",
   "pygments_lexer": "ipython3",
   "version": "3.9.7"
  }
 },
 "nbformat": 4,
 "nbformat_minor": 5
}
